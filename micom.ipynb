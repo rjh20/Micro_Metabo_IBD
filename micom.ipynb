{
 "cells": [
  {
   "cell_type": "markdown",
   "id": "2d2a1292-fcff-4832-9be2-e6ab4613730b",
   "metadata": {},
   "source": [
    "### Install all required packages:"
   ]
  },
  {
   "cell_type": "code",
   "execution_count": null,
   "id": "89f3efa8-01b5-4784-b8ce-9ce11e0dbd27",
   "metadata": {},
   "outputs": [],
   "source": [
    "! pip install micom \n",
    "! pip install numpy Cython\n",
    "! pip install biom-format"
   ]
  },
  {
   "cell_type": "markdown",
   "id": "4fd1888a-0fa1-4eaf-b98f-f90a6ea0754b",
   "metadata": {},
   "source": [
    "### Import all required libraries and functions:"
   ]
  },
  {
   "cell_type": "code",
   "execution_count": 3,
   "id": "9689f3ec-990a-496f-bf95-b6c1b80e7ece",
   "metadata": {},
   "outputs": [],
   "source": [
    "#for data manipulation:\n",
    "import pandas as pd\n",
    "import numpy as np\n",
    "import pickle\n",
    "#for building community:\n",
    "from micom.workflows import build\n",
    "from micom import Community\n",
    "from micom.qiime_formats import load_qiime_medium\n",
    "from micom.workflows import grow\n",
    "#for visualizing results:\n",
    "from micom.viz import plot_growth\n",
    "from micom.viz import plot_exchanges_per_sample\n",
    "from micom.viz import plot_exchanges_per_taxon\n",
    "from micom.viz import plot_association\n",
    "from micom.measures import production_rates"
   ]
  },
  {
   "cell_type": "markdown",
   "id": "885546f6-72c2-490d-b8c7-0bea01aee67e",
   "metadata": {},
   "source": [
    "### Import required data:\n"
   ]
  },
  {
   "cell_type": "code",
   "execution_count": null,
   "id": "75aa9f82-a3c1-41e8-8ad6-4c08da2d84a1",
   "metadata": {},
   "outputs": [],
   "source": [
    "data = pd.read_csv('data_long_form.csv') #genera data in long form format\n",
    "df_meta = pd.read_csv('fran_metadata.csv') #to obtain disease group of each sample\n",
    "\n",
    "#add disease group column onto the data dataframe:\n",
    "disease = list(df_meta['Disease.Group'])\n",
    "data['disease_stat'] = disease*74"
   ]
  },
  {
   "cell_type": "markdown",
   "id": "ac8e35c1-e285-4f74-8417-f0a3d2a5fe3d",
   "metadata": {},
   "source": [
    "#### The resulting data frame should have:"
   ]
  },
  {
   "cell_type": "markdown",
   "id": "4199cd67-01a2-46a7-8813-eb1cbd9aea58",
   "metadata": {},
   "source": [
    "Column 1) sample_id - the sample each measure corresponds to\n",
    "\n",
    "Column 2) genus - the genus being measured\n",
    "\n",
    "Column 3) relative - the relative abunance of the genus for that sample\n",
    "\n",
    "Column 4) id- same as genus essentially but required by the model\n",
    "\n",
    "Column 5) disease_status - if the sample the measure comes from has IBD or not. \n",
    "\n",
    "Optional: Column 6) The family corresponding to each genus."
   ]
  },
  {
   "cell_type": "markdown",
   "id": "c2d81ad0-0b2c-4d5d-8acf-2b229ef6de1d",
   "metadata": {},
   "source": [
    "### The long form data frame was made via:"
   ]
  },
  {
   "cell_type": "code",
   "execution_count": null,
   "id": "c5bd247c-4373-4fe0-b71a-9dfea62f0190",
   "metadata": {},
   "outputs": [],
   "source": [
    "data_genus = 'fran_genera_diff.csv' #data on the 74 selected genus only\n",
    "df_genus = pd.read_csv(format(data_genus))\n",
    "#Rename sample column and index it:\n",
    "df_genus.rename(columns={'Unnamed: 0': 'Sample'}, inplace=True)\n",
    "df_genus= df_genus.set_index('Sample')\n",
    "\n",
    "#melt:\n",
    "dfm = df_genus.melt(ignore_index=False).reset_index()\n",
    "dfm.rename(columns={'Sample': 'sample_id', 'value': 'relative', 'variable': 'genus'}, inplace=True)\n",
    "dfm['id'] = dfm['genus']\n",
    "dfm.to_csv('data_long_form.csv')"
   ]
  },
  {
   "cell_type": "markdown",
   "id": "4be7afd5-f8be-471e-9142-fb3c9da66f17",
   "metadata": {},
   "source": [
    "#### Obtain required AGORA database and diet data:"
   ]
  },
  {
   "cell_type": "code",
   "execution_count": null,
   "id": "8df79fdb-3015-4599-8c18-6ff52cad4403",
   "metadata": {},
   "outputs": [],
   "source": [
    "!wget -O agora103_genus.qza https://zenodo.org/record/3755182/files/agora103_genus.qza?download=1\n",
    "!wget -O western_diet_gut.qza https://zenodo.org/record/3755182/files/western_diet_gut.qza?download=1"
   ]
  },
  {
   "cell_type": "markdown",
   "id": "971ded25-2fb1-4422-902e-78ec2934b112",
   "metadata": {
    "tags": []
   },
   "source": [
    "## Builiding the manifest"
   ]
  },
  {
   "cell_type": "code",
   "execution_count": null,
   "id": "b8be96cb-5bf4-453a-a4f7-d860a9beb0ab",
   "metadata": {},
   "outputs": [],
   "source": [
    "manifest = build(data, \"agora103_genus.qza\", \"gen_mod\", solver=\"osqp\",\n",
    "                 cutoff=0, threads=2) #gen_mod is the name of a folder to store the results to "
   ]
  },
  {
   "cell_type": "markdown",
   "id": "0f2afc3e-adca-4e02-b8fd-13fbdc4999d8",
   "metadata": {},
   "source": [
    "## Obtaining the growth model:"
   ]
  },
  {
   "cell_type": "code",
   "execution_count": null,
   "id": "139e86c0-3333-4b2d-b011-bb5c1339442b",
   "metadata": {},
   "outputs": [],
   "source": [
    "#load the diet data:\n",
    "medium = load_qiime_medium(\"western_diet_gut.qza\")\n",
    "\n",
    "growth_results = grow(manifest, \"gen_mod\", medium, tradeoff=0.5, threads=2) #store to the same folder\n",
    "\n",
    "# Save the individual results to a file:\n",
    "pickle.dump(growth_results, open(\"growth.pickle\", \"wb\"))\n"
   ]
  },
  {
   "cell_type": "markdown",
   "id": "703b362a-5c49-4976-93ad-9ad6ea3a4889",
   "metadata": {},
   "source": [
    "## Visualising results:"
   ]
  },
  {
   "cell_type": "code",
   "execution_count": null,
   "id": "4f0dce44-7e2d-4f36-b97c-559b00d8844f",
   "metadata": {},
   "outputs": [],
   "source": [
    "#Visualize the growth rates:\n",
    "pl = plot_growth(growth_results, filename=\"growth_rates.html\")\n",
    "\n",
    "#Visulaize how the metabolites are exchanged between samples:\n",
    "pl = plot_exchanges_per_sample(growth_results, filename=\"consumption.html\")\n",
    "\n",
    "#Visualize how the metabolites are exchaned between the genus:\n",
    "pl = plot_exchanges_per_taxon(growth_results, filename=\"niche.html\")\n"
   ]
  },
  {
   "cell_type": "markdown",
   "id": "a5db66d0-4140-4256-90a9-0814f49abc0c",
   "metadata": {},
   "source": [
    "## Testing for significant metabolites:"
   ]
  },
  {
   "cell_type": "code",
   "execution_count": null,
   "id": "62ddc359-af19-4ebb-8c17-ab455c3fadfa",
   "metadata": {},
   "outputs": [],
   "source": [
    "#extract production rates:\n",
    "prod = production_rates(growth_results)\n",
    "\n",
    "#set phenotype to the disease group:\n",
    "phenotype = manif.disease_stat\n",
    "\n",
    "#find associations between metabolites and disease:\n",
    "pl = plot_association(growth_results,phenotype= phenotype,variable_type=\"binary\",filename=\"association.html\",fdr_threshold=0.5)"
   ]
  }
 ],
 "metadata": {
  "kernelspec": {
   "display_name": "Python 3.9.6 [python/3.9.6]",
   "language": "python",
   "name": "sys_python396"
  },
  "language_info": {
   "codemirror_mode": {
    "name": "ipython",
    "version": 3
   },
   "file_extension": ".py",
   "mimetype": "text/x-python",
   "name": "python",
   "nbconvert_exporter": "python",
   "pygments_lexer": "ipython3",
   "version": "3.9.6"
  }
 },
 "nbformat": 4,
 "nbformat_minor": 5
}
