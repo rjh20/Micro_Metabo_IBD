{
 "cells": [
  {
   "cell_type": "markdown",
   "id": "78b7eed1-c2ef-451e-9f49-bec0672e349b",
   "metadata": {},
   "source": [
    "### Install packages required:"
   ]
  },
  {
   "cell_type": "code",
   "execution_count": null,
   "id": "0cf9d921-b650-4e4c-b768-19adb69aaee7",
   "metadata": {},
   "outputs": [],
   "source": [
    "!pip install --upgrade pip\n",
    "! pip install composition_stats\n",
    "! pip install --upgrade fastsrm\n",
    "! pip install xgboost\n",
    "! pip install pandas\n",
    "! pip install boruta"
   ]
  },
  {
   "cell_type": "markdown",
   "id": "aeaea4cf-5e31-4d08-91d8-7cf652c2fb2a",
   "metadata": {},
   "source": [
    "### Import packages and functions required:"
   ]
  },
  {
   "cell_type": "code",
   "execution_count": null,
   "id": "9847d7eb-f4d9-4bec-be4a-2a2234557207",
   "metadata": {},
   "outputs": [],
   "source": [
    "#for data manipulation:\n",
    "import numpy as np\n",
    "import pandas as pd\n",
    "from collections import defaultdict\n",
    "from itertools import chain\n",
    "#for preprocessing:\n",
    "import composition_stats as cs #for clr function\n",
    "from sklearn.preprocessing import MinMaxScaler\n",
    "from sklearn.impute import SimpleImputer, KNNImputer\n",
    "from sklearn.preprocessing import StandardScaler, OneHotEncoder, LabelEncoder\n",
    "import scipy.stats as stats\n",
    "from sklearn.compose import ColumnTransformer\n",
    "from sklearn.datasets import fetch_openml\n",
    "import time\n",
    "import warnings\n",
    "warnings.filterwarnings(\"ignore\")\n",
    "from sklearn.pipeline import Pipeline\n",
    "#for model development:\n",
    "from sklearn.ensemble import RandomForestClassifier\n",
    "from sklearn.linear_model import Lasso\n",
    "import xgboost as xgb\n",
    "from sklearn.model_selection import StratifiedKFold, GridSearchCV\n",
    "from boruta import BorutaPy\n",
    "#for model performance evaluation and visualization:\n",
    "from sklearn.metrics import precision_score, recall_score, f1_score, make_scorer, confusion_matrix, roc_auc_score, roc_curve, auc\n",
    "%matplotlib inline\n",
    "import matplotlib.pyplot as plt\n",
    "from sklearn.datasets import make_classification"
   ]
  },
  {
   "cell_type": "markdown",
   "id": "f2124acf-d7cd-4e76-9f05-6a0291ecc7d9",
   "metadata": {},
   "source": [
    "### Pre-processing function:"
   ]
  },
  {
   "cell_type": "code",
   "execution_count": null,
   "id": "27b7f39c-b3df-461f-be02-c2a752959af4",
   "metadata": {},
   "outputs": [],
   "source": [
    "#pre-processng function for microbe data:\n",
    "def pre_pros(x):\n",
    "    x_col = list(x.columns)\n",
    "    x_row = list(x.index)\n",
    "    as_matrix = x.values\n",
    "    clr_matrix = cs.clr(as_matrix + 0.00001)\n",
    "    min_max_matrix = MinMaxScaler().fit_transform(clr_matrix)\n",
    "    tran_df = pd.DataFrame(min_max_matrix)\n",
    "    tran_df = tran_df.set_axis(x_row, axis=0)\n",
    "    tran_df = tran_df.set_axis(x_col, axis=1)\n",
    "    \n",
    "    return tran_df"
   ]
  },
  {
   "cell_type": "code",
   "execution_count": null,
   "id": "fe392d85-0b21-4723-b673-8cb98a0d35aa",
   "metadata": {},
   "outputs": [],
   "source": [
    "#pre-processing function for metabolite data:\n",
    "def pre_pros_met(x):\n",
    "    x_col = list(x.columns)\n",
    "    x_row = list(x.index)\n",
    "    as_matrix = x.values\n",
    "    clr_matrix = cs.clr(as_matrix + 1)\n",
    "    z_matrix = stats.zscore(clr_matrix)\n",
    "    tran_df = pd.DataFrame(z_matrix)\n",
    "    tran_df = tran_df.set_axis(x_row, axis=0)\n",
    "    tran_df = tran_df.set_axis(x_col, axis=1)\n",
    "    \n",
    "    return tran_df"
   ]
  },
  {
   "cell_type": "markdown",
   "id": "6e6159f1-2107-4f1e-a31f-db3f0369690e",
   "metadata": {},
   "source": [
    "Allows the preprocessing to be one line when used in other code. "
   ]
  },
  {
   "cell_type": "markdown",
   "id": "1b99a118-5641-4b3f-b130-4fc27ad7100c",
   "metadata": {},
   "source": [
    "## Import required data:"
   ]
  },
  {
   "cell_type": "markdown",
   "id": "de2caec6-8da9-4189-89bd-4e82bf88279f",
   "metadata": {},
   "source": [
    "### Validation data:"
   ]
  },
  {
   "cell_type": "code",
   "execution_count": null,
   "id": "c63c6bcc-466e-454f-b952-357c2035fe9b",
   "metadata": {},
   "outputs": [],
   "source": [
    "#import the microbe data from the validation data set:\n",
    "val_genus = 'hmp_genera.csv'\n",
    "val_genus = pd.read_csv(format(val_genus))\n",
    "#Rename sample column and index it:\n",
    "val_genus.rename(columns={'Unnamed: 0': 'Sample'}, inplace=True)\n",
    "val_genus= val_genus.set_index('Sample')\n",
    "#select the 9 important microbes only:\n",
    "hmp_genus = val_genus.loc[:, ['CAJJNI01','CAJOIG01','Flavonifractor','JAGTTR01','RGIG426','RUG762','UBA11774','UBA1774','Ventricola']]"
   ]
  },
  {
   "cell_type": "code",
   "execution_count": null,
   "id": "e6713f0b-aeda-47ff-ac2c-13ee50eca6f3",
   "metadata": {},
   "outputs": [],
   "source": [
    "#import the metadata of the validation data set:\n",
    "val_meta = 'hmp_meta.csv'\n",
    "val_meta = pd.read_csv(format(val_meta))\n",
    "#Rename sample column and index it:\n",
    "val_meta= val_meta.set_index('Sample')\n",
    "val_meta.drop('Unnamed: 0', axis = 1, inplace=True)"
   ]
  },
  {
   "cell_type": "code",
   "execution_count": null,
   "id": "5f21de5f-9499-433a-83f4-367438aff3a3",
   "metadata": {},
   "outputs": [],
   "source": [
    "#import the metabolite data from the validation data set:\n",
    "val_mtb = 'hmp_mtb.csv'\n",
    "val_mtb = pd.read_csv(format(val_mtb))\n",
    "#Rename sample column and index it:\n",
    "val_mtb.rename(columns={'Unnamed: 0': 'Sample'}, inplace=True)\n",
    "val_mtb= val_mtb.set_index('Sample')"
   ]
  },
  {
   "cell_type": "markdown",
   "id": "f4fd00de-fac5-4c52-8e32-df347337b757",
   "metadata": {},
   "source": [
    "### Required main dataset for training:"
   ]
  },
  {
   "cell_type": "code",
   "execution_count": null,
   "id": "f4b9d750-c633-4204-9015-c627c869906b",
   "metadata": {},
   "outputs": [],
   "source": [
    "#import the metadata of the main data set:\n",
    "data_meta = 'fran_metadata.csv'\n",
    "df_meta = pd.read_csv(format(data_meta))\n",
    "#Rename sample column and index it:\n",
    "df_meta= df_meta.set_index('Sample')\n",
    "df_meta.drop('Unnamed: 0', axis = 1, inplace=True)"
   ]
  },
  {
   "cell_type": "code",
   "execution_count": null,
   "id": "d97ab33f-7b2c-4fa4-873a-cad60a068b5c",
   "metadata": {},
   "outputs": [],
   "source": [
    "#import the data on the associated 14 metabolites from the main dataset:\n",
    "data_mtb = 'fran_mtb_val.csv'\n",
    "df_mtb = pd.read_csv(format(data_mtb))\n",
    "#Rename sample column and index it:\n",
    "df_mtb.rename(columns={'Unnamed: 0': 'Sample'}, inplace=True)\n",
    "df_mtb= df_mtb.set_index('Sample')"
   ]
  },
  {
   "cell_type": "code",
   "execution_count": null,
   "id": "ea3c9b8c-cb53-4713-807a-bde9ccd0753b",
   "metadata": {},
   "outputs": [],
   "source": [
    "#import the microbe data on the 74 selected microbes from the main dataset:\n",
    "data_genus = 'fran_genera_diff.csv'\n",
    "df_genus = pd.read_csv(format(data_genus))\n",
    "#Rename sample column and index it:\n",
    "df_genus.rename(columns={'Unnamed: 0': 'Sample'}, inplace=True)\n",
    "df_genus= df_genus.set_index('Sample')\n",
    "#select the 9 important microbes only:\n",
    "fran_genus = df_genus.loc[:, ['CAJJNI01','CAJOIG01','Flavonifractor','JAGTTR01','RGIG426','RUG762','UBA11774','UBA1774','Ventricola']]"
   ]
  },
  {
   "cell_type": "markdown",
   "id": "58b21543-cc0b-4c7d-833e-3c1219dd5c34",
   "metadata": {},
   "source": [
    "## Microbe model data:"
   ]
  },
  {
   "cell_type": "code",
   "execution_count": null,
   "id": "615c192e-e5fa-4a9d-915f-ff04438749bd",
   "metadata": {},
   "outputs": [],
   "source": [
    "#extarct the disease group labels for the y vectors:\n",
    "y_train = df_meta['Disease.Group']\n",
    "y_test = val_meta['Disease.Group']\n",
    "y_train = y_train.replace({'IBD': 1, 'Control': 0})\n",
    "y_test = y_test.replace({'IBD': 1, 'Control': 0})  "
   ]
  },
  {
   "cell_type": "code",
   "execution_count": null,
   "id": "6fb1b17a-eb1b-471e-a528-a307ff77c571",
   "metadata": {},
   "outputs": [],
   "source": [
    "#set the training data the main dataset genus data preprocessed and the testing the validation dataset genus data preprocessed:\n",
    "x_train = pre_pros(fran_genus)\n",
    "x_test = pre_pros(hmp_genus)"
   ]
  },
  {
   "cell_type": "markdown",
   "id": "9e559d2f-80c5-4d4e-a0a8-68cfb7f141b3",
   "metadata": {},
   "source": [
    "The random forest model with the parameters: entropy, max depth 10, max_features = 0.75, max_samples = 0.9, n_estimators = 100 was the best in the main dataset so chosen for all models here."
   ]
  },
  {
   "cell_type": "code",
   "execution_count": null,
   "id": "c48158c4-00af-4aca-b9bc-44a6646b876b",
   "metadata": {},
   "outputs": [],
   "source": [
    "#make model:\n",
    "model_mic = RandomForestClassifier(criterion = 'entropy', max_depth = 10, max_features = 0.75, max_samples = 0.9, n_estimators = 100, random_state = 23)\n",
    "#fit model to training data:\n",
    "model_mic.fit(x_train, y_train)\n",
    "#predict the model on the testing data (val data):\n",
    "y_pred_lab = model_mic.predict(x_test)\n",
    "y_pred_prob = model_mic.predict_proba(x_test)\n",
    "y_true_lab = y_test"
   ]
  },
  {
   "cell_type": "code",
   "execution_count": null,
   "id": "7c4f6b3f-ae8f-42d2-a9ae-bcdbf51fba64",
   "metadata": {},
   "outputs": [],
   "source": [
    "#obtain the performance metrics of the model:\n",
    "recall = recall_score(y_true_lab, y_pred_lab)\n",
    "precision = precision_score(y_true_lab, y_pred_lab)\n",
    "f1 = f1_score(y_true_lab, y_pred_lab)\n",
    "confusion = confusion_matrix(y_true_lab, y_pred_lab)\n",
    "TP = confusion[1, 1]\n",
    "TN = confusion[0, 0]\n",
    "FP = confusion[0, 1]\n",
    "FN = confusion[1, 0]\n",
    "specificity = TN / (TN + FP)\n",
    "sensitivity = TP / (TP + FN)\n",
    "\n",
    "fpr_num_mic, tpr_num_mic, _ = roc_curve(y_test, y_pred_prob[:,1])\n",
    "auc_score_mic = auc(fpr_num_mic, tpr_num_mic)\n",
    "print(recall, precision, f1, specificity, sensitivity, auc_score)"
   ]
  },
  {
   "cell_type": "markdown",
   "id": "7863c288-b9d2-43e9-9931-f7f5667dbb2e",
   "metadata": {},
   "source": [
    "## Metabolite data model:"
   ]
  },
  {
   "cell_type": "markdown",
   "id": "8db54d70-5f88-4236-890f-2bc92f5a44f2",
   "metadata": {},
   "source": [
    "There are missing values for the abundance of the Carnosol and L-1,2,3,4-tetrahydro-beta-carboline-3-carboxylic acid* metabolies in the validation dataset, so imputation is required:"
   ]
  },
  {
   "cell_type": "code",
   "execution_count": null,
   "id": "642a43cc-2d31-4d46-b7ef-4c5aaaea7a09",
   "metadata": {},
   "outputs": [],
   "source": [
    "#set up the numeric transformer:\n",
    "numeric_features = ['Carnosol', 'L-1,2,3,4-tetrahydro-beta-carboline-3-carboxylic acid*']\n",
    "\n",
    "numeric_transformer= Pipeline(steps=[\n",
    "    ('imputer', KNNImputer(n_neighbors=5))]) #imputing using 5 nearest neighbours. \n",
    "\n",
    "#apply the transformer to the corresponding columns of the validation dataset:\n",
    "preprocessor= ColumnTransformer(\n",
    "    transformers=[\n",
    "        ('num', numeric_transformer, numeric_features)])\n",
    "clt = Pipeline(steps=[('preprocessor', preprocessor)])\n",
    "new_df= clt.fit_transform(val_mtb)\n",
    "\n",
    "#reorgnaise the data:\n",
    "new_df = pd.DataFrame(new_df) #make data frame\n",
    "new_df.columns = [ numeric_features] #rename the columns back to the metabolite names\n",
    "new_df.index = val_mtb.index #reset the index as the samples\n",
    "\n",
    "#replace the columns of the original data frame with these new columns:\n",
    "val_mtb['Carnosol'] = new_df['Carnosol'] \n",
    "val_mtb['L-1,2,3,4-tetrahydro-beta-carboline-3-carboxylic acid*'] = new_df['L-1,2,3,4-tetrahydro-beta-carboline-3-carboxylic acid*'] "
   ]
  },
  {
   "cell_type": "markdown",
   "id": "3619a28c-9803-4004-9a4a-aff888dec444",
   "metadata": {},
   "source": [
    "The y vectors remain the same."
   ]
  },
  {
   "cell_type": "code",
   "execution_count": null,
   "id": "c450542e-438e-457b-965e-f98db44bd5d3",
   "metadata": {},
   "outputs": [],
   "source": [
    "#set the training data the main dataset metabolite data preprocessed and the testing the validation dataset metabolite data preprocessed:\n",
    "x_train_met = pre_pros_met(df_mtb)\n",
    "x_test_met = pre_pros_met(val_mtb)"
   ]
  },
  {
   "cell_type": "code",
   "execution_count": null,
   "id": "3cc3b0fe",
   "metadata": {},
   "outputs": [],
   "source": [
    "#reorder columns so the same order:\n",
    "cols = list(x_train_met.columns)\n",
    "x_test_met = x_test_met.reindex(columns = cols)"
   ]
  },
  {
   "cell_type": "code",
   "execution_count": null,
   "id": "972e681c-3916-4fb6-8ae6-739a1275059c",
   "metadata": {},
   "outputs": [],
   "source": [
    "#make model:\n",
    "model_met = RandomForestClassifier(criterion = 'entropy', max_depth = 10, max_features = 0.75, max_samples = 0.9, n_estimators = 100, random_state = 23)\n",
    "#fit model to training data:\n",
    "model_met.fit(x_train_met, y_train)\n",
    "#predict model on the test data:\n",
    "y_pred_lab = model_met.predict(x_test_met)\n",
    "y_pred_prob = model_met.predict_proba(x_test_met)\n",
    "y_true_lab = y_test"
   ]
  },
  {
   "cell_type": "code",
   "execution_count": null,
   "id": "329c3c34-cbae-4c43-b209-f2e43c16588e",
   "metadata": {},
   "outputs": [],
   "source": [
    "#obtain the performance metrics of the model:\n",
    "recall = recall_score(y_true_lab, y_pred_lab)\n",
    "precision = precision_score(y_true_lab, y_pred_lab)\n",
    "f1 = f1_score(y_true_lab, y_pred_lab)\n",
    "confusion = confusion_matrix(y_true_lab, y_pred_lab)\n",
    "TP = confusion[1, 1]\n",
    "TN = confusion[0, 0]\n",
    "FP = confusion[0, 1]\n",
    "FN = confusion[1, 0]\n",
    "specificity = TN / (TN + FP)\n",
    "sensitivity = TP / (TP + FN)\n",
    "\n",
    "fpr_num_mtb, tpr_num_mtb, _ = roc_curve(y_test, y_pred_prob[:,1])\n",
    "auc_score_mtb = auc(fpr_num_mtb, tpr_num_mtb)\n",
    "print(recall, precision, f1, specificity, sensitivity, auc_score_mtb)"
   ]
  },
  {
   "cell_type": "markdown",
   "id": "d1ac1114-7a3e-47b8-9249-64cf09d4f9cd",
   "metadata": {},
   "source": [
    "## Microbe and metabolite combined model:"
   ]
  },
  {
   "cell_type": "markdown",
   "id": "8d28cfd3-67df-491d-b921-0521763ce84d",
   "metadata": {},
   "source": [
    "The y vectors remain the same."
   ]
  },
  {
   "cell_type": "code",
   "execution_count": null,
   "id": "04c373be-7881-4913-b3fb-cd020956e908",
   "metadata": {},
   "outputs": [],
   "source": [
    "#combine the microbe and metabolite datasets into one data frame:\n",
    "x_train_both = pd.concat([fran_genus, df_mtb], axis=1)\n",
    "x_test_both = pd.concat([hmp_genus, val_mtb], axis=1)\n",
    "#pre-process them:\n",
    "x_train_both = pre_pros_met(x_train_both)\n",
    "x_test_both = pre_pros_met(x_test_both)"
   ]
  },
  {
   "cell_type": "code",
   "execution_count": null,
   "id": "08a9fa1a",
   "metadata": {},
   "outputs": [],
   "source": [
    "#reorder columns so the same order:\n",
    "cols = list(x_train_both.columns)\n",
    "x_test_both = x_test_both.reindex(columns = cols)"
   ]
  },
  {
   "cell_type": "code",
   "execution_count": null,
   "id": "13831c3d-a41a-4619-9d4a-50037e9a3803",
   "metadata": {},
   "outputs": [],
   "source": [
    "#make model:\n",
    "model_both = RandomForestClassifier(criterion = 'entropy', max_depth = 10, max_features = 0.75, max_samples = 0.9, n_estimators = 100, random_state = 23)\n",
    "#fit model to training data:\n",
    "model_both.fit(x_train_both, y_train)\n",
    "#predict model on the test data:\n",
    "y_pred_lab = model_both.predict(x_test_both)\n",
    "y_pred_prob = model_both.predict_proba(x_test_both)\n",
    "y_true_lab = y_test"
   ]
  },
  {
   "cell_type": "code",
   "execution_count": null,
   "id": "a02ff504-b8a7-4b0a-9832-7af3ad9da4dc",
   "metadata": {},
   "outputs": [],
   "source": [
    "#obtain the performance metrics of the model:\n",
    "recall = recall_score(y_true_lab, y_pred_lab)\n",
    "precision = precision_score(y_true_lab, y_pred_lab)\n",
    "f1 = f1_score(y_true_lab, y_pred_lab)\n",
    "confusion = confusion_matrix(y_true_lab, y_pred_lab)\n",
    "TP = confusion[1, 1]\n",
    "TN = confusion[0, 0]\n",
    "FP = confusion[0, 1]\n",
    "FN = confusion[1, 0]\n",
    "specificity = TN / (TN + FP)\n",
    "sensitivity = TP / (TP + FN)\n",
    "\n",
    "fpr_num, tpr_num, _ = roc_curve(y_test, y_pred_prob[:,1])\n",
    "auc_score = auc(fpr_num, tpr_num)\n",
    "print(recall, precision, f1, specificity, sensitivity, auc_score)"
   ]
  },
  {
   "cell_type": "markdown",
   "id": "5b1101be-b61f-466d-8ec0-e9e50acce56f",
   "metadata": {},
   "source": [
    "## ROC plot of all models:"
   ]
  },
  {
   "cell_type": "code",
   "execution_count": null,
   "id": "95faaf90-fd1e-4c20-a25e-8e17cf4221cd",
   "metadata": {},
   "outputs": [],
   "source": [
    "plt.figure(figsize=(8, 8))\n",
    "plt.axes().set_aspect('equal', 'datalim')\n",
    "\n",
    "plt.plot(fpr_num_smi, tpr_num_smi, 'limegreen', label=r'ROC Microbe Features Only (AUC = {})'.format(round(auc_score_smi,3)))\n",
    "plt.plot(fpr_num_mtb, tpr_num_mtb, 'darkblue', label=r'ROC Metabolite Features Only (AUC = {})'.format(round(auc_score_mtb,3)))\n",
    "plt.plot(fpr_num, tpr_num, 'purple', label=r'ROC Microbe and Metabolite Features (AUC = {})'.format(round(auc_score,3)))\n",
    "\n",
    "plt.plot([0, 1], [0, 1],'r--')\n",
    "plt.xlim([-0.01, 1.01])\n",
    "plt.ylim([-0.01, 1.01])\n",
    "plt.legend(loc=\"lower right\")\n",
    "plt.title('Receiver Operating Characteristic Validation Models')\n",
    "plt.ylabel('True Positive Rate')\n",
    "plt.xlabel('False Positive Rate')\n",
    "plt.savefig('val_roc.pdf', format = 'pdf', dpi = 300, bbox_inches = 'tight')\n",
    "plt.show()"
   ]
  }
 ],
 "metadata": {
  "kernelspec": {
   "display_name": "Python 3.9.6 [python/3.9.6]",
   "language": "python",
   "name": "sys_python396"
  },
  "language_info": {
   "codemirror_mode": {
    "name": "ipython",
    "version": 3
   },
   "file_extension": ".py",
   "mimetype": "text/x-python",
   "name": "python",
   "nbconvert_exporter": "python",
   "pygments_lexer": "ipython3",
   "version": "3.9.6"
  }
 },
 "nbformat": 4,
 "nbformat_minor": 5
}
